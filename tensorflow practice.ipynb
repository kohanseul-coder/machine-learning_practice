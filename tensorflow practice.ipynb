{
 "cells": [
  {
   "cell_type": "code",
   "execution_count": 2,
   "metadata": {},
   "outputs": [],
   "source": [
    "import tensorflow as tf"
   ]
  },
  {
   "cell_type": "code",
   "execution_count": 3,
   "metadata": {},
   "outputs": [
    {
     "name": "stdout",
     "output_type": "stream",
     "text": [
      "Tensor(\"Const:0\", shape=(), dtype=string)\n",
      "b'Hello TensorFlow'\n"
     ]
    }
   ],
   "source": [
    "hello=tf.constant('Hello TensorFlow')\n",
    "print(hello)\n",
    "\n",
    "sess=tf.Session()\n",
    "result=sess.run(hello)\n",
    "print(result)\n",
    "sess.close()"
   ]
  },
  {
   "cell_type": "markdown",
   "metadata": {},
   "source": [
    "#계산그래프만들기"
   ]
  },
  {
   "cell_type": "code",
   "execution_count": 4,
   "metadata": {},
   "outputs": [],
   "source": [
    "node1=tf.constant(3,tf.float32) #형을 맞춰줘야 계산 가능\n",
    "node2=tf.constant(4.0)\n",
    "node3=tf.add(node1,node2)"
   ]
  },
  {
   "cell_type": "code",
   "execution_count": 5,
   "metadata": {},
   "outputs": [
    {
     "name": "stdout",
     "output_type": "stream",
     "text": [
      "node1:  Tensor(\"Const_1:0\", shape=(), dtype=float32)\n",
      "node2:  Tensor(\"Const_2:0\", shape=(), dtype=float32)\n",
      "node3:  Tensor(\"Add:0\", shape=(), dtype=float32)\n"
     ]
    }
   ],
   "source": [
    "print(\"node1: \",node1)\n",
    "print(\"node2: \",node2)\n",
    "print(\"node3: \",node3)"
   ]
  },
  {
   "cell_type": "code",
   "execution_count": 6,
   "metadata": {},
   "outputs": [
    {
     "name": "stdout",
     "output_type": "stream",
     "text": [
      "session.run([node1,node2]):  [3.0, 4.0]\n",
      "session.run(node3):  7.0\n"
     ]
    }
   ],
   "source": [
    "session=tf.Session()\n",
    "print(\"session.run([node1,node2]): \",session.run([node1,node2]))  #session이 run할떄 실행되는 것\n",
    "print(\"session.run(node3): \",session.run(node3))"
   ]
  },
  {
   "cell_type": "code",
   "execution_count": 7,
   "metadata": {},
   "outputs": [
    {
     "name": "stdout",
     "output_type": "stream",
     "text": [
      "Tensor(\"Const_3:0\", shape=(), dtype=float32)\n",
      "()\n",
      "1.0\n"
     ]
    }
   ],
   "source": [
    "a=tf.constant(1,dtype=tf.float32)\n",
    "print(a)\n",
    "print(a.shape)\n",
    "with tf.Session() as session:\n",
    "    print(session.run(a))\n"
   ]
  },
  {
   "cell_type": "markdown",
   "metadata": {},
   "source": [
    "#플레이스홀더(Placeholder) : 갈아끼울 수 있다"
   ]
  },
  {
   "cell_type": "code",
   "execution_count": 8,
   "metadata": {},
   "outputs": [
    {
     "name": "stdout",
     "output_type": "stream",
     "text": [
      "[ 2.  4.  6.  8. 10.]\n"
     ]
    }
   ],
   "source": [
    "import tensorflow as tf\n",
    "\n",
    "input_data=[1,2,3,4,5]\n",
    "x=tf.placeholder(dtype=tf.float32)\n",
    "y=x*2\n",
    "\n",
    "sess=tf.Session()\n",
    "result=sess.run(y,feed_dict={x:input_data})\n",
    "\n",
    "print(result)\n",
    "sess.close()"
   ]
  },
  {
   "cell_type": "code",
   "execution_count": 9,
   "metadata": {},
   "outputs": [
    {
     "name": "stdout",
     "output_type": "stream",
     "text": [
      "x: Tensor(\"Placeholder_1:0\", dtype=float32)\n",
      "weights:  <tf.Variable 'Variable:0' shape=(1,) dtype=float32_ref>\n",
      "biases:  <tf.Variable 'Variable_1:0' shape=(1,) dtype=float32_ref>\n"
     ]
    }
   ],
   "source": [
    "x=tf.placeholder(dtype=tf.float32)\n",
    "x_data=[1,2,4]\n",
    "\n",
    "#초기값 : tf.random_normal([1,3],stddev=0.35)\n",
    "\n",
    "weights=tf.Variable([3],dtype=tf.float32)\n",
    "biases=tf.Variable([4],dtype=tf.float32)\n",
    "\n",
    "y=weights*x+biases\n",
    "\n",
    "print(\"x:\",x)\n",
    "print('weights: ',weights)\n",
    "print('biases: ',biases)"
   ]
  },
  {
   "cell_type": "code",
   "execution_count": 10,
   "metadata": {},
   "outputs": [
    {
     "name": "stdout",
     "output_type": "stream",
     "text": [
      "[ 7. 10. 16.]\n",
      "[ 6.  8. 12.]\n"
     ]
    }
   ],
   "source": [
    "with tf.Session() as session:\n",
    "    #초기화 오퍼레이션을 실행\n",
    "    session.run([weights.initializer,biases.initializer]) #initializer무조건 써줘야함\n",
    "    \n",
    "    result=session.run(y,feed_dict={x:x_data})\n",
    "    print(result)\n",
    "    \n",
    "    #변수 변경 // 변수 재 할당\n",
    "    session.run(tf.assign(weights,[2]))\n",
    "    \n",
    "    #다시 실행\n",
    "    result = session.run(y,feed_dict={x:x_data})\n",
    "    print(result)"
   ]
  },
  {
   "cell_type": "code",
   "execution_count": 11,
   "metadata": {},
   "outputs": [
    {
     "name": "stdout",
     "output_type": "stream",
     "text": [
      "[ 7. 10. 16.]\n",
      "[ 6.  8. 12.]\n"
     ]
    }
   ],
   "source": [
    "#변수 초기화 작업 (완전 다 초기화 됨)\n",
    "init_op = tf.global_variables_initializer()\n",
    "\n",
    "with tf.Session() as session:\n",
    "    #초기화 오퍼레이션을 실행\n",
    "    session.run(init_op)\n",
    "    \n",
    "    result=session.run(y,feed_dict={x:x_data})\n",
    "    print(result)\n",
    "    \n",
    "    #변수 변경 // 변수 재 할당\n",
    "    session.run(tf.assign(weights,[2]))\n",
    "    \n",
    "    #다시 실행\n",
    "    result=session.run(y,feed_dict={x:x_data})\n",
    "    print(result)"
   ]
  },
  {
   "cell_type": "markdown",
   "metadata": {},
   "source": [
    "Tensor의 속성"
   ]
  },
  {
   "cell_type": "code",
   "execution_count": 13,
   "metadata": {},
   "outputs": [
    {
     "name": "stdout",
     "output_type": "stream",
     "text": [
      "a: Tensor(\"Const_8:0\", shape=(), dtype=int32)\n",
      "b: Tensor(\"Const_9:0\", shape=(2,), dtype=float32)\n",
      "c: Tensor(\"Const_10:0\", shape=(2, 2), dtype=int32)\n",
      "d: Tensor(\"Const_11:0\", shape=(2, 2, 2), dtype=float32)\n"
     ]
    }
   ],
   "source": [
    "\n",
    "a=tf.constant(1) #0차원\n",
    "b=tf.constant([1,2],dtype=tf.float32) #1차원\n",
    "c=tf.constant([[1,2],[3,4]],dtype=tf.int32) #2차원, =행렬\n",
    "d=tf.constant(\n",
    "[\n",
    "    [[1.0,2.0],[3,4]],\n",
    "    [[5,6],[7,8]]\n",
    "] #3차원\n",
    ")\n",
    "\n",
    "print('a:',a)\n",
    "print('b:',b)\n",
    "print('c:',c)\n",
    "print('d:',d)\n"
   ]
  },
  {
   "cell_type": "markdown",
   "metadata": {},
   "source": [
    "rank"
   ]
  },
  {
   "cell_type": "code",
   "execution_count": 15,
   "metadata": {},
   "outputs": [
    {
     "name": "stdout",
     "output_type": "stream",
     "text": [
      "a's rank: 0\n",
      "a's rank: 1\n",
      "a's rank: 2\n",
      "a's rank: 3\n",
      "a's rank: Tensor(\"Rank_4:0\", shape=(), dtype=int32)\n",
      "a's rank: Tensor(\"Rank_5:0\", shape=(), dtype=int32)\n",
      "a's rank: Tensor(\"Rank_6:0\", shape=(), dtype=int32)\n",
      "a's rank: Tensor(\"Rank_7:0\", shape=(), dtype=int32)\n"
     ]
    }
   ],
   "source": [
    "print(\"a's rank:\" , a._rank())\n",
    "print(\"a's rank:\" , b._rank())\n",
    "print(\"a's rank:\" , c._rank())\n",
    "print(\"a's rank:\" , d._rank())\n",
    "\n",
    "print(\"a's rank:\" , tf.rank(a))\n",
    "print(\"a's rank:\" , tf.rank(b))\n",
    "print(\"a's rank:\" , tf.rank(c))\n",
    "print(\"a's rank:\" , tf.rank(d))"
   ]
  },
  {
   "cell_type": "markdown",
   "metadata": {},
   "source": [
    "Session 관리"
   ]
  },
  {
   "cell_type": "code",
   "execution_count": 17,
   "metadata": {},
   "outputs": [
    {
     "name": "stdout",
     "output_type": "stream",
     "text": [
      "None\n"
     ]
    }
   ],
   "source": [
    "session = tf.get_default_session()\n",
    "print(session)"
   ]
  },
  {
   "cell_type": "code",
   "execution_count": 19,
   "metadata": {},
   "outputs": [
    {
     "name": "stdout",
     "output_type": "stream",
     "text": [
      "<tensorflow.python.client.session.Session object at 0x000001F3B3F289B0>\n"
     ]
    }
   ],
   "source": [
    "with tf.Session() as sess:\n",
    "    print(tf.get_default_session())"
   ]
  },
  {
   "cell_type": "markdown",
   "metadata": {},
   "source": [
    "eval(),initializer.run()"
   ]
  },
  {
   "cell_type": "code",
   "execution_count": 25,
   "metadata": {},
   "outputs": [
    {
     "name": "stdout",
     "output_type": "stream",
     "text": [
      "None\n",
      "2.0\n",
      "6.0\n",
      "None\n",
      "2.0\n",
      "6.0\n"
     ]
    }
   ],
   "source": [
    "a=tf.constant(2,dtype=tf.float32)\n",
    "b=tf.Variable(3,dtype=tf.float32)\n",
    "c=a*b\n",
    "\n",
    "with tf.Session() as sess:\n",
    "    print(sess.run(b.initializer))\n",
    "    print(sess.run(a))\n",
    "    print(sess.run(c))\n",
    "    \n",
    "    ####똑같은 결과\n",
    "    print(b.initializer.run())\n",
    "    print(a.eval())\n",
    "    print(c.eval())"
   ]
  },
  {
   "cell_type": "markdown",
   "metadata": {},
   "source": [
    "* initializer - 따로하거나 global로 진행하거나\n",
    "* session해주고 거기서 run해줘야 진행함. \n",
    "* with에서 쓸 수 있다는건 b.initializer과 같다는 말. = sess.run(b.initializer)\n",
    "* 디폴트세션은 with절 안에서만 진행하기때문에 initializer을 하면 아무것도 안뜸. get_default_sessionn이 없으면\n",
    "\n",
    "* sess라는 객체를 만들어서 접근하지 않고 변수에서 바로 접근하기 위해서는(.initializer이나 .eval) with절이나 interactiveSession을 써야한다는 것. "
   ]
  },
  {
   "cell_type": "markdown",
   "metadata": {},
   "source": [
    "tf.InteractiveSession"
   ]
  },
  {
   "cell_type": "code",
   "execution_count": 26,
   "metadata": {},
   "outputs": [
    {
     "name": "stdout",
     "output_type": "stream",
     "text": [
      "2.0\n",
      "6.0\n"
     ]
    }
   ],
   "source": [
    "sess=tf.InteractiveSession()\n",
    "sess.run(b.initializer)\n",
    "print(a.eval())\n",
    "print(c.eval())\n",
    "sess.close()"
   ]
  },
  {
   "cell_type": "markdown",
   "metadata": {},
   "source": [
    "Graph 관리하기\n",
    "get_default_graph()"
   ]
  },
  {
   "cell_type": "code",
   "execution_count": 28,
   "metadata": {},
   "outputs": [
    {
     "data": {
      "text/plain": [
       "<tensorflow.python.framework.ops.Graph at 0x1f3b3ef2b70>"
      ]
     },
     "execution_count": 28,
     "metadata": {},
     "output_type": "execute_result"
    }
   ],
   "source": [
    "tf.get_default_graph()"
   ]
  },
  {
   "cell_type": "code",
   "execution_count": 30,
   "metadata": {},
   "outputs": [
    {
     "data": {
      "text/plain": [
       "True"
      ]
     },
     "execution_count": 30,
     "metadata": {},
     "output_type": "execute_result"
    }
   ],
   "source": [
    "a=tf.Variable(3)\n",
    "a.graph is tf.get_default_graph()"
   ]
  },
  {
   "cell_type": "markdown",
   "metadata": {},
   "source": [
    "Graph 객체"
   ]
  },
  {
   "cell_type": "code",
   "execution_count": 33,
   "metadata": {},
   "outputs": [],
   "source": [
    "graph = tf.Graph()\n",
    "with graph.as_default():\n",
    "    b=tf.Variable(2)"
   ]
  },
  {
   "cell_type": "code",
   "execution_count": 35,
   "metadata": {},
   "outputs": [
    {
     "data": {
      "text/plain": [
       "<tensorflow.python.framework.ops.Graph at 0x1f3b3ef2b70>"
      ]
     },
     "execution_count": 35,
     "metadata": {},
     "output_type": "execute_result"
    }
   ],
   "source": [
    "a.graph"
   ]
  }
 ],
 "metadata": {
  "kernelspec": {
   "display_name": "Python 3",
   "language": "python",
   "name": "python3"
  },
  "language_info": {
   "codemirror_mode": {
    "name": "ipython",
    "version": 3
   },
   "file_extension": ".py",
   "mimetype": "text/x-python",
   "name": "python",
   "nbconvert_exporter": "python",
   "pygments_lexer": "ipython3",
   "version": "3.6.8"
  }
 },
 "nbformat": 4,
 "nbformat_minor": 2
}
